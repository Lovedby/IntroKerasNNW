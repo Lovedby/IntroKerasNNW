{
 "cells": [
  {
   "cell_type": "code",
   "execution_count": 1,
   "metadata": {
    "collapsed": true
   },
   "outputs": [],
   "source": [
    "'モジュールのインポート 1'\n",
    "\n",
    "# numpyはインポートする必要はありませんが、頻繁に使用することになるでしょう\n",
    "import numpy as np\n",
    "# データのプロットに使用します\n",
    "import matplotlib.pyplot as plt\n",
    "%matplotlib inline"
   ]
  },
  {
   "cell_type": "code",
   "execution_count": 2,
   "metadata": {
    "collapsed": true
   },
   "outputs": [],
   "source": [
    "'モジュールのインポート 2'\n",
    "\n",
    "# MNISTデータセット\n",
    "from tensorflow.contrib.keras.python.keras.datasets import mnist\n",
    "# シーケンシャルモデル\n",
    "from tensorflow.contrib.keras.python.keras.models import Sequential\n",
    "# それぞれ平坦化層、全結合層、活性化層\n",
    "from tensorflow.contrib.keras.python.keras.layers import Flatten, Dense, Activation\n",
    "# numpyアレイの便利な取り扱い\n",
    "from tensorflow.contrib.keras.python.keras.utils import np_utils\n",
    "# tensorflowのバックエンドエンジン\n",
    "from tensorflow.contrib.keras.api.keras import backend as K"
   ]
  },
  {
   "cell_type": "code",
   "execution_count": 3,
   "metadata": {
    "collapsed": true
   },
   "outputs": [],
   "source": [
    "'データセットの読み込み'\n",
    "\n",
    "# MNISTデータセットダウンロードし、読み込みます\n",
    "(x_train, y_train), (x_test, y_test) = mnist.load_data()"
   ]
  },
  {
   "cell_type": "code",
   "execution_count": 4,
   "metadata": {},
   "outputs": [
    {
     "name": "stdout",
     "output_type": "stream",
     "text": [
      "x_train : (60000, 28, 28)\n",
      "y_train : (60000,)\n",
      "x_test : (10000, 28, 28)\n",
      "y_test : (10000,)\n"
     ]
    }
   ],
   "source": [
    "# 訓練データ、評価データの入力データ、教師データの構造を確認します\n",
    "print('x_train :', x_train.shape)\n",
    "print('y_train :', y_train.shape)\n",
    "print('x_test :', x_test.shape)\n",
    "print('y_test :', y_test.shape)"
   ]
  },
  {
   "cell_type": "code",
   "execution_count": 5,
   "metadata": {
    "collapsed": true
   },
   "outputs": [],
   "source": [
    "'入力データを画像として表示する関数を定義'\n",
    "\n",
    "def show_samples(samples):\n",
    "    \"\"\"\n",
    "    入力：\n",
    "        samples - numpy.ndarray\n",
    "    出力：\n",
    "        None\n",
    "    \"\"\"\n",
    "    num_samples = samples.shape[0]\n",
    "    # サンプル画像の枚数分のプロット領域を作り、位置を調整します\n",
    "    fig, axs = plt.subplots(1,num_samples, figsize=(18,2))\n",
    "    fig.subplots_adjust(wspace=.05)\n",
    "    axs = axs.ravel()\n",
    "    for i in range(num_samples):\n",
    "        # サンプル画像をプロット領域に描画します\n",
    "        axs[i].imshow(samples[i], cmap='gray')\n",
    "        # 縦横の軸を消します\n",
    "        axs[i].set_xticks([])\n",
    "        axs[i].set_yticks([])\n",
    "    # プロットを表示します\n",
    "    plt.show()"
   ]
  },
  {
   "cell_type": "code",
   "execution_count": 6,
   "metadata": {},
   "outputs": [
    {
     "name": "stdout",
     "output_type": "stream",
     "text": [
      "[7 2 1 0 4 1 4 9 5 9]\n"
     ]
    },
    {
     "data": {
      "image/png": "[encoded data removed]",
      "text/plain": [
       "<matplotlib.figure.Figure at 0x11743b518>"
      ]
     },
     "metadata": {},
     "output_type": "display_data"
    }
   ],
   "source": [
    "'データセットの確認'\n",
    "\n",
    "# はじめの10サンプル分を選びます\n",
    "indexes = np.arange(0,10)\n",
    "# 以下のように、直接番号で指定することもできます\n",
    "# indexes = [0,1,2,3,4,5,6,7,8,9]\n",
    "# 選んだサンプルの教師ラベルを表示します\n",
    "print(y_test[indexes])\n",
    "# 選んだサンプルの入力データを表示します\n",
    "show_samples(x_test[indexes])"
   ]
  },
  {
   "cell_type": "code",
   "execution_count": 7,
   "metadata": {},
   "outputs": [
    {
     "name": "stdout",
     "output_type": "stream",
     "text": [
      "y_train_1hot : (60000, 10)\n",
      "y_test_1hot : (10000, 10)\n"
     ]
    }
   ],
   "source": [
    "'1ホットベクトルへの変換'\n",
    "\n",
    "# np_udilsから教師ラベルを1ホットベクトルに変換します\n",
    "y_train_1hot = np_utils.to_categorical(y_train)\n",
    "y_test_1hot = np_utils.to_categorical(y_test)\n",
    "# 変換後のデータの構造を確認します\n",
    "print('y_train_1hot :', y_train_1hot.shape)\n",
    "print('y_test_1hot :', y_test_1hot.shape)"
   ]
  },
  {
   "cell_type": "code",
   "execution_count": 8,
   "metadata": {},
   "outputs": [
    {
     "name": "stdout",
     "output_type": "stream",
     "text": [
      "7\n",
      "[ 0.  0.  0.  0.  0.  0.  0.  1.  0.  0.]\n"
     ]
    }
   ],
   "source": [
    "# 1ホットベクトル形式を確認します\n",
    "index = 0\n",
    "print(y_test[index])\n",
    "print(y_test_1hot[index])"
   ]
  },
  {
   "cell_type": "code",
   "execution_count": 9,
   "metadata": {
    "collapsed": true
   },
   "outputs": [],
   "source": [
    "'ニューラルネットワークモデルの構築'\n",
    "\n",
    "# 入力データの形式と教師データのラベル数を取得します\n",
    "input_shape = x_train.shape[1:]\n",
    "num_labels =  y_train_1hot.shape[-1]\n",
    "\n",
    "# シーケンシャルモデルのインスタンスを作ります\n",
    "model = Sequential()\n",
    "# 入力データを平坦化する層を追加します\n",
    "model.add(Flatten(input_shape =input_shape))\n",
    "# 全結合層を追加します\n",
    "model.add(Dense(num_labels))\n",
    "# 全結合層の出力をソフトマックス関数で活性化します\n",
    "model.add(Activation('softmax'))"
   ]
  },
  {
   "cell_type": "code",
   "execution_count": 10,
   "metadata": {},
   "outputs": [
    {
     "name": "stdout",
     "output_type": "stream",
     "text": [
      "_________________________________________________________________\n",
      "Layer (type)                 Output Shape              Param #   \n",
      "=================================================================\n",
      "flatten_1 (Flatten)          (None, 784)               0         \n",
      "_________________________________________________________________\n",
      "dense_1 (Dense)              (None, 10)                7850      \n",
      "_________________________________________________________________\n",
      "activation_1 (Activation)    (None, 10)                0         \n",
      "=================================================================\n",
      "Total params: 7,850\n",
      "Trainable params: 7,850\n",
      "Non-trainable params: 0\n",
      "_________________________________________________________________\n"
     ]
    }
   ],
   "source": [
    "# モデルの概要を表示します\n",
    "model.summary()"
   ]
  },
  {
   "cell_type": "code",
   "execution_count": 11,
   "metadata": {
    "collapsed": true
   },
   "outputs": [],
   "source": [
    "'モデルの学習アルゴリズムの設定'\n",
    "\n",
    "model.compile(\n",
    "    # 更新方法に「AdaDelta」を設定します\n",
    "    optimizer='adadelta',\n",
    "    # 損失関数に「CrossEntropy」を設定します\n",
    "    loss='categorical_crossentropy',\n",
    "    # 学習過程で認識精度を表示します\n",
    "    metrics=['accuracy'])"
   ]
  },
  {
   "cell_type": "code",
   "execution_count": 12,
   "metadata": {},
   "outputs": [
    {
     "name": "stdout",
     "output_type": "stream",
     "text": [
      "Train on 60000 samples, validate on 10000 samples\n",
      "Epoch 1/50\n",
      "60000/60000 [==============================] - 1s - loss: 8.4779 - acc: 0.4596 - val_loss: 6.2079 - val_acc: 0.6032\n",
      "Epoch 2/50\n",
      "60000/60000 [==============================] - 1s - loss: 4.9441 - acc: 0.6793 - val_loss: 3.1273 - val_acc: 0.7906\n",
      "Epoch 3/50\n",
      "60000/60000 [==============================] - 1s - loss: 2.5677 - acc: 0.8266 - val_loss: 2.0767 - val_acc: 0.8594\n",
      "Epoch 4/50\n",
      "60000/60000 [==============================] - 1s - loss: 2.0320 - acc: 0.8623 - val_loss: 1.8446 - val_acc: 0.8733\n",
      "Epoch 5/50\n",
      "60000/60000 [==============================] - 1s - loss: 1.8167 - acc: 0.8766 - val_loss: 1.6378 - val_acc: 0.8879\n",
      "Epoch 6/50\n",
      "60000/60000 [==============================] - 1s - loss: 1.6850 - acc: 0.8863 - val_loss: 1.5572 - val_acc: 0.8943\n",
      "Epoch 7/50\n",
      "60000/60000 [==============================] - 1s - loss: 1.5945 - acc: 0.8911 - val_loss: 1.5470 - val_acc: 0.8941\n",
      "Epoch 8/50\n",
      "60000/60000 [==============================] - 1s - loss: 1.5445 - acc: 0.8949 - val_loss: 1.4707 - val_acc: 0.8994\n",
      "Epoch 9/50\n",
      "60000/60000 [==============================] - 2s - loss: 1.4903 - acc: 0.8989 - val_loss: 1.4478 - val_acc: 0.9013\n",
      "Epoch 10/50\n",
      "60000/60000 [==============================] - 2s - loss: 1.4512 - acc: 0.9017 - val_loss: 1.4036 - val_acc: 0.9049\n",
      "Epoch 11/50\n",
      "60000/60000 [==============================] - 1s - loss: 1.3941 - acc: 0.9053 - val_loss: 1.3737 - val_acc: 0.9058\n",
      "Epoch 12/50\n",
      "60000/60000 [==============================] - 2s - loss: 1.3811 - acc: 0.9065 - val_loss: 1.5033 - val_acc: 0.8957\n",
      "Epoch 13/50\n",
      "60000/60000 [==============================] - 1s - loss: 1.3601 - acc: 0.9082 - val_loss: 1.3388 - val_acc: 0.9096\n",
      "Epoch 14/50\n",
      "60000/60000 [==============================] - 2s - loss: 1.3244 - acc: 0.9100 - val_loss: 1.3577 - val_acc: 0.9079\n",
      "Epoch 15/50\n",
      "60000/60000 [==============================] - 1s - loss: 1.3019 - acc: 0.9120 - val_loss: 1.3170 - val_acc: 0.9100\n",
      "Epoch 16/50\n",
      "60000/60000 [==============================] - 2s - loss: 1.2869 - acc: 0.9126 - val_loss: 1.2925 - val_acc: 0.9110\n",
      "Epoch 17/50\n",
      "60000/60000 [==============================] - 2s - loss: 1.2727 - acc: 0.9134 - val_loss: 1.3057 - val_acc: 0.9109\n",
      "Epoch 18/50\n",
      "60000/60000 [==============================] - 2s - loss: 1.2384 - acc: 0.9160 - val_loss: 1.2644 - val_acc: 0.9131\n",
      "Epoch 19/50\n",
      "60000/60000 [==============================] - 2s - loss: 1.2265 - acc: 0.9165 - val_loss: 1.2316 - val_acc: 0.9146\n",
      "Epoch 20/50\n",
      "60000/60000 [==============================] - 2s - loss: 1.2078 - acc: 0.9180 - val_loss: 1.2366 - val_acc: 0.9158\n",
      "Epoch 21/50\n",
      "60000/60000 [==============================] - 2s - loss: 1.2009 - acc: 0.9181 - val_loss: 1.1982 - val_acc: 0.9168\n",
      "Epoch 22/50\n",
      "60000/60000 [==============================] - 2s - loss: 1.1843 - acc: 0.9195 - val_loss: 1.2291 - val_acc: 0.9175\n",
      "Epoch 23/50\n",
      "60000/60000 [==============================] - 2s - loss: 1.1732 - acc: 0.9205 - val_loss: 1.2068 - val_acc: 0.9168\n",
      "Epoch 24/50\n",
      "60000/60000 [==============================] - 2s - loss: 1.1655 - acc: 0.9203 - val_loss: 1.1795 - val_acc: 0.9193\n",
      "Epoch 25/50\n",
      "60000/60000 [==============================] - 2s - loss: 1.1446 - acc: 0.9217 - val_loss: 1.1983 - val_acc: 0.9171\n",
      "Epoch 26/50\n",
      "60000/60000 [==============================] - 2s - loss: 1.1345 - acc: 0.9229 - val_loss: 1.1793 - val_acc: 0.9195\n",
      "Epoch 27/50\n",
      "60000/60000 [==============================] - 2s - loss: 1.1230 - acc: 0.9238 - val_loss: 1.1856 - val_acc: 0.9190\n",
      "Epoch 28/50\n",
      "60000/60000 [==============================] - 2s - loss: 1.1266 - acc: 0.9235 - val_loss: 1.1578 - val_acc: 0.9206\n",
      "Epoch 29/50\n",
      "60000/60000 [==============================] - 2s - loss: 1.1146 - acc: 0.9238 - val_loss: 1.1534 - val_acc: 0.9210\n",
      "Epoch 30/50\n",
      "60000/60000 [==============================] - 2s - loss: 1.1038 - acc: 0.9248 - val_loss: 1.1893 - val_acc: 0.9180\n",
      "Epoch 31/50\n",
      "60000/60000 [==============================] - 2s - loss: 1.0925 - acc: 0.9257 - val_loss: 1.1960 - val_acc: 0.9184\n",
      "Epoch 32/50\n",
      "60000/60000 [==============================] - 2s - loss: 1.0918 - acc: 0.9258 - val_loss: 1.1625 - val_acc: 0.9198\n",
      "Epoch 33/50\n",
      "60000/60000 [==============================] - 2s - loss: 1.0914 - acc: 0.9256 - val_loss: 1.1570 - val_acc: 0.9200\n",
      "Epoch 34/50\n",
      "60000/60000 [==============================] - 2s - loss: 1.0802 - acc: 0.9265 - val_loss: 1.1857 - val_acc: 0.9192\n",
      "Epoch 35/50\n",
      "60000/60000 [==============================] - 2s - loss: 1.0723 - acc: 0.9269 - val_loss: 1.1609 - val_acc: 0.9207\n",
      "Epoch 36/50\n",
      "60000/60000 [==============================] - 2s - loss: 1.0670 - acc: 0.9273 - val_loss: 1.1182 - val_acc: 0.9226\n",
      "Epoch 37/50\n",
      "60000/60000 [==============================] - 2s - loss: 1.0573 - acc: 0.9279 - val_loss: 1.1575 - val_acc: 0.9215\n",
      "Epoch 38/50\n",
      "60000/60000 [==============================] - 2s - loss: 1.0503 - acc: 0.9287 - val_loss: 1.1538 - val_acc: 0.9203\n",
      "Epoch 39/50\n",
      "60000/60000 [==============================] - 2s - loss: 1.0485 - acc: 0.9285 - val_loss: 1.1164 - val_acc: 0.9241\n",
      "Epoch 40/50\n",
      "60000/60000 [==============================] - 2s - loss: 1.0431 - acc: 0.9286 - val_loss: 1.1017 - val_acc: 0.9245\n",
      "Epoch 41/50\n",
      "60000/60000 [==============================] - 2s - loss: 1.0300 - acc: 0.9296 - val_loss: 1.1177 - val_acc: 0.9221\n",
      "Epoch 42/50\n",
      "60000/60000 [==============================] - 2s - loss: 1.0320 - acc: 0.9298 - val_loss: 1.1249 - val_acc: 0.9230\n",
      "Epoch 43/50\n",
      "60000/60000 [==============================] - 2s - loss: 1.0219 - acc: 0.9307 - val_loss: 1.1528 - val_acc: 0.9209\n",
      "Epoch 44/50\n",
      "60000/60000 [==============================] - 2s - loss: 1.0140 - acc: 0.9312 - val_loss: 1.1243 - val_acc: 0.9244\n",
      "Epoch 45/50\n",
      "60000/60000 [==============================] - 2s - loss: 1.0114 - acc: 0.9310 - val_loss: 1.1042 - val_acc: 0.9238\n",
      "Epoch 46/50\n",
      "60000/60000 [==============================] - 2s - loss: 1.0141 - acc: 0.9304 - val_loss: 1.1016 - val_acc: 0.9241\n",
      "Epoch 47/50\n",
      "60000/60000 [==============================] - 2s - loss: 1.0078 - acc: 0.9313 - val_loss: 1.1005 - val_acc: 0.9245\n",
      "Epoch 48/50\n",
      "60000/60000 [==============================] - 2s - loss: 1.0088 - acc: 0.9313 - val_loss: 1.0849 - val_acc: 0.9258\n",
      "Epoch 49/50\n",
      "60000/60000 [==============================] - 2s - loss: 1.0006 - acc: 0.9318 - val_loss: 1.1084 - val_acc: 0.9242\n",
      "Epoch 50/50\n",
      "60000/60000 [==============================] - 2s - loss: 0.9964 - acc: 0.9315 - val_loss: 1.0908 - val_acc: 0.9247\n"
     ]
    },
    {
     "data": {
      "text/plain": [
       "<tensorflow.contrib.keras.python.keras.callbacks.History at 0x11b402588>"
      ]
     },
     "execution_count": 12,
     "metadata": {},
     "output_type": "execute_result"
    }
   ],
   "source": [
    "'モデルの学習'\n",
    "\n",
    "history = model.fit(\n",
    "    # 訓練データを指定します\n",
    "    x_train, y_train_1hot, \n",
    "    # ミニバッチ処理のバッチサイズを設定します\n",
    "    batch_size=100,\n",
    "    # 学習エポック数を設定します\n",
    "    epochs=50,\n",
    "    # 評価データを指定します\n",
    "    validation_data=(x_test, y_test_1hot),\n",
    ")"
   ]
  },
  {
   "cell_type": "code",
   "execution_count": 13,
   "metadata": {},
   "outputs": [
    {
     "name": "stdout",
     "output_type": "stream",
     "text": [
      "10/10 [==============================] - 0s\n",
      "predictions : [7 2 1 0 4 1 4 9 6 9]\n",
      "answers      : [7 2 1 0 4 1 4 9 5 9]\n"
     ]
    },
    {
     "data": {
      "image/png": "[encoded data removed]",
      "text/plain": [
       "<matplotlib.figure.Figure at 0x10a7cb1d0>"
      ]
     },
     "metadata": {},
     "output_type": "display_data"
    }
   ],
   "source": [
    "'学習済みモデルの利用'\n",
    "\n",
    "# 評価データから10個のサンプルを取得します\n",
    "indexes = np.arange(0,10)\n",
    "samples = x_test[indexes]\n",
    "# 選んだサンプルデータをモデルに入力し、識別結果を取得します\n",
    "predictions = model.predict_classes(x_test[indexes])\n",
    "# 正解データと比較をします\n",
    "answers = y_test[indexes]\n",
    "print('predictions :', predictions)\n",
    "print('answers      :', answers)\n",
    "show_samples(samples)"
   ]
  },
  {
   "cell_type": "code",
   "execution_count": null,
   "metadata": {
    "collapsed": true
   },
   "outputs": [],
   "source": []
  }
 ],
 "metadata": {
  "kernelspec": {
   "display_name": "Python 3",
   "language": "python",
   "name": "python3"
  },
  "language_info": {
   "codemirror_mode": {
    "name": "ipython",
    "version": 3
   },
   "file_extension": ".py",
   "mimetype": "text/x-python",
   "name": "python",
   "nbconvert_exporter": "python",
   "pygments_lexer": "ipython3",
   "version": "3.5.3"
  }
 },
 "nbformat": 4,
 "nbformat_minor": 2
}
